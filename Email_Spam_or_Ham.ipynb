{
  "cells": [
    {
      "cell_type": "code",
      "execution_count": null,
      "id": "5bc22f5c",
      "metadata": {
        "id": "5bc22f5c",
        "outputId": "64185c77-bf86-427e-cee1-f90e5fb835f9"
      },
      "outputs": [
        {
          "name": "stderr",
          "output_type": "stream",
          "text": [
            "[nltk_data] Downloading package punkt to\n",
            "[nltk_data]     C:\\Users\\s\\AppData\\Roaming\\nltk_data...\n",
            "[nltk_data]   Package punkt is already up-to-date!\n",
            "[nltk_data] Downloading package stopwords to\n",
            "[nltk_data]     C:\\Users\\s\\AppData\\Roaming\\nltk_data...\n",
            "[nltk_data]   Package stopwords is already up-to-date!\n"
          ]
        }
      ],
      "source": [
        "# Importing the necessary libraries\n",
        "import numpy as np\n",
        "import pandas as pd\n",
        "import matplotlib.pyplot as plt\n",
        "import seaborn as sns\n",
        "import string\n",
        "\n",
        "# Importing NLTK\n",
        "import nltk\n",
        "from nltk.corpus import stopwords\n",
        "from nltk.tokenize import word_tokenize\n",
        "from nltk.stem import PorterStemmer\n",
        "from nltk.probability import FreqDist\n",
        "from sklearn.model_selection import train_test_split\n",
        "from sklearn.pipeline import Pipeline\n",
        "from sklearn.feature_extraction.text import CountVectorizer\n",
        "from sklearn.naive_bayes import MultinomialNB\n",
        "from sklearn.metrics import accuracy_score,precision_score,recall_score,f1_score, classification_report, confusion_matrix\n",
        "# Downloading NLTK resources (if not already downloaded)\n",
        "nltk.download('punkt')\n",
        "nltk.download('stopwords')\n",
        "import warnings\n",
        "warnings.filterwarnings('ignore')\n"
      ]
    },
    {
      "cell_type": "code",
      "execution_count": null,
      "id": "22521a5b",
      "metadata": {
        "id": "22521a5b",
        "outputId": "38bd3c8b-9c6c-4d76-89c5-9f2f17df7614"
      },
      "outputs": [
        {
          "data": {
            "text/html": [
              "<div>\n",
              "<style scoped>\n",
              "    .dataframe tbody tr th:only-of-type {\n",
              "        vertical-align: middle;\n",
              "    }\n",
              "\n",
              "    .dataframe tbody tr th {\n",
              "        vertical-align: top;\n",
              "    }\n",
              "\n",
              "    .dataframe thead th {\n",
              "        text-align: right;\n",
              "    }\n",
              "</style>\n",
              "<table border=\"1\" class=\"dataframe\">\n",
              "  <thead>\n",
              "    <tr style=\"text-align: right;\">\n",
              "      <th></th>\n",
              "      <th>Unnamed</th>\n",
              "      <th>label</th>\n",
              "      <th>text</th>\n",
              "      <th>label_num</th>\n",
              "    </tr>\n",
              "  </thead>\n",
              "  <tbody>\n",
              "    <tr>\n",
              "      <th>0</th>\n",
              "      <td>605</td>\n",
              "      <td>ham</td>\n",
              "      <td>Subject: enron methanol ; meter # : 988291\\r\\n...</td>\n",
              "      <td>0</td>\n",
              "    </tr>\n",
              "    <tr>\n",
              "      <th>1</th>\n",
              "      <td>2349</td>\n",
              "      <td>ham</td>\n",
              "      <td>Subject: hpl nom for january 9 , 2001\\r\\n( see...</td>\n",
              "      <td>0</td>\n",
              "    </tr>\n",
              "    <tr>\n",
              "      <th>2</th>\n",
              "      <td>3624</td>\n",
              "      <td>ham</td>\n",
              "      <td>Subject: neon retreat\\r\\nho ho ho , we ' re ar...</td>\n",
              "      <td>0</td>\n",
              "    </tr>\n",
              "    <tr>\n",
              "      <th>3</th>\n",
              "      <td>4685</td>\n",
              "      <td>spam</td>\n",
              "      <td>Subject: photoshop , windows , office . cheap ...</td>\n",
              "      <td>1</td>\n",
              "    </tr>\n",
              "    <tr>\n",
              "      <th>4</th>\n",
              "      <td>2030</td>\n",
              "      <td>ham</td>\n",
              "      <td>Subject: re : indian springs\\r\\nthis deal is t...</td>\n",
              "      <td>0</td>\n",
              "    </tr>\n",
              "    <tr>\n",
              "      <th>...</th>\n",
              "      <td>...</td>\n",
              "      <td>...</td>\n",
              "      <td>...</td>\n",
              "      <td>...</td>\n",
              "    </tr>\n",
              "    <tr>\n",
              "      <th>5166</th>\n",
              "      <td>1518</td>\n",
              "      <td>ham</td>\n",
              "      <td>Subject: put the 10 on the ft\\r\\nthe transport...</td>\n",
              "      <td>0</td>\n",
              "    </tr>\n",
              "    <tr>\n",
              "      <th>5167</th>\n",
              "      <td>404</td>\n",
              "      <td>ham</td>\n",
              "      <td>Subject: 3 / 4 / 2000 and following noms\\r\\nhp...</td>\n",
              "      <td>0</td>\n",
              "    </tr>\n",
              "    <tr>\n",
              "      <th>5168</th>\n",
              "      <td>2933</td>\n",
              "      <td>ham</td>\n",
              "      <td>Subject: calpine daily gas nomination\\r\\n&gt;\\r\\n...</td>\n",
              "      <td>0</td>\n",
              "    </tr>\n",
              "    <tr>\n",
              "      <th>5169</th>\n",
              "      <td>1409</td>\n",
              "      <td>ham</td>\n",
              "      <td>Subject: industrial worksheets for august 2000...</td>\n",
              "      <td>0</td>\n",
              "    </tr>\n",
              "    <tr>\n",
              "      <th>5170</th>\n",
              "      <td>4807</td>\n",
              "      <td>spam</td>\n",
              "      <td>Subject: important online banking alert\\r\\ndea...</td>\n",
              "      <td>1</td>\n",
              "    </tr>\n",
              "  </tbody>\n",
              "</table>\n",
              "<p>5171 rows × 4 columns</p>\n",
              "</div>"
            ],
            "text/plain": [
              "      Unnamed label                                               text  \\\n",
              "0         605   ham  Subject: enron methanol ; meter # : 988291\\r\\n...   \n",
              "1        2349   ham  Subject: hpl nom for january 9 , 2001\\r\\n( see...   \n",
              "2        3624   ham  Subject: neon retreat\\r\\nho ho ho , we ' re ar...   \n",
              "3        4685  spam  Subject: photoshop , windows , office . cheap ...   \n",
              "4        2030   ham  Subject: re : indian springs\\r\\nthis deal is t...   \n",
              "...       ...   ...                                                ...   \n",
              "5166     1518   ham  Subject: put the 10 on the ft\\r\\nthe transport...   \n",
              "5167      404   ham  Subject: 3 / 4 / 2000 and following noms\\r\\nhp...   \n",
              "5168     2933   ham  Subject: calpine daily gas nomination\\r\\n>\\r\\n...   \n",
              "5169     1409   ham  Subject: industrial worksheets for august 2000...   \n",
              "5170     4807  spam  Subject: important online banking alert\\r\\ndea...   \n",
              "\n",
              "      label_num  \n",
              "0             0  \n",
              "1             0  \n",
              "2             0  \n",
              "3             1  \n",
              "4             0  \n",
              "...         ...  \n",
              "5166          0  \n",
              "5167          0  \n",
              "5168          0  \n",
              "5169          0  \n",
              "5170          1  \n",
              "\n",
              "[5171 rows x 4 columns]"
            ]
          },
          "execution_count": 49,
          "metadata": {},
          "output_type": "execute_result"
        }
      ],
      "source": [
        "# Loading the dataset\n",
        "data = pd.read_csv('spam_ham_dataset.csv.zip')\n",
        "\n",
        "# Renaming the column \"Unnamed: 0\" to \"Unnamed\"\n",
        "data.rename(columns={\"Unnamed: 0\": \"Unnamed\"}, inplace=True)\n",
        "data\n"
      ]
    },
    {
      "cell_type": "code",
      "execution_count": null,
      "id": "4411c291",
      "metadata": {
        "id": "4411c291",
        "outputId": "e57a2d28-bbc8-4b80-af67-461eb6bdad9c"
      },
      "outputs": [
        {
          "name": "stdout",
          "output_type": "stream",
          "text": [
            "   Unnamed label                                               text  label_num\n",
            "0      605   ham  Subject: enron methanol ; meter # : 988291\\r\\n...          0\n",
            "1     2349   ham  Subject: hpl nom for january 9 , 2001\\r\\n( see...          0\n",
            "2     3624   ham  Subject: neon retreat\\r\\nho ho ho , we ' re ar...          0\n",
            "3     4685  spam  Subject: photoshop , windows , office . cheap ...          1\n",
            "4     2030   ham  Subject: re : indian springs\\r\\nthis deal is t...          0\n",
            "####################################                               ####################################\n",
            "(5171, 4)\n",
            "####################################                               ####################################\n",
            "           Unnamed    label_num\n",
            "count  5171.000000  5171.000000\n",
            "mean   2585.000000     0.289886\n",
            "std    1492.883452     0.453753\n",
            "min       0.000000     0.000000\n",
            "25%    1292.500000     0.000000\n",
            "50%    2585.000000     0.000000\n",
            "75%    3877.500000     1.000000\n",
            "max    5170.000000     1.000000\n",
            "####################################                               ####################################\n",
            "<class 'pandas.core.frame.DataFrame'>\n",
            "RangeIndex: 5171 entries, 0 to 5170\n",
            "Data columns (total 4 columns):\n",
            " #   Column     Non-Null Count  Dtype \n",
            "---  ------     --------------  ----- \n",
            " 0   Unnamed    5171 non-null   int64 \n",
            " 1   label      5171 non-null   object\n",
            " 2   text       5171 non-null   object\n",
            " 3   label_num  5171 non-null   int64 \n",
            "dtypes: int64(2), object(2)\n",
            "memory usage: 161.7+ KB\n",
            "None\n",
            "####################################                               ####################################\n",
            "label_num\n",
            "0    3672\n",
            "1    1499\n",
            "Name: count, dtype: int64\n"
          ]
        }
      ],
      "source": [
        "# Data exploration\n",
        "print(data.head())  # Displaying the first few rows of the dataset\n",
        "print('####################################                               ####################################')\n",
        "print(data.shape)  # Displaying the shape of the dataset\n",
        "print('####################################                               ####################################')\n",
        "print(data.describe())  # Displaying descriptive statistics of the dataset\n",
        "print('####################################                               ####################################')\n",
        "print(data.info())  # Displaying information about the dataset\n",
        "print('####################################                               ####################################')\n",
        "print(data['label_num'].value_counts())  # Counting the number of occurrences for each label"
      ]
    },
    {
      "cell_type": "code",
      "execution_count": null,
      "id": "99335914",
      "metadata": {
        "id": "99335914",
        "outputId": "46af9b5b-7f63-4501-ac0b-8199ef28b52f"
      },
      "outputs": [
        {
          "name": "stdout",
          "output_type": "stream",
          "text": [
            "0       subject enron methanol meter 988291 follow not...\n",
            "1       subject hpl nom januari 9 2001 see attach file...\n",
            "2       subject neon retreat ho ho ho around wonder ti...\n",
            "3       subject photoshop window offic cheap main tren...\n",
            "4       subject indian spring deal book teco pvr reven...\n",
            "                              ...                        \n",
            "5166    subject put 10 ft transport volum decreas 2500...\n",
            "5167    subject 3 4 2000 follow nom hpl take extra 15 ...\n",
            "5168    subject calpin daili ga nomin juli mention ear...\n",
            "5169    subject industri worksheet august 2000 activ a...\n",
            "5170    subject import onlin bank alert dear valu citi...\n",
            "Name: text, Length: 5171, dtype: object\n"
          ]
        }
      ],
      "source": [
        "# Text preprocessing\n",
        "stop_words = set(stopwords.words('english'))\n",
        "ps = PorterStemmer()\n",
        "\n",
        "def preprocess_text(text):\n",
        "    # Tokenization\n",
        "    tokens = word_tokenize(text.lower())\n",
        "    # Removing punctuation and stop words\n",
        "    tokens = [token for token in tokens if token not in string.punctuation and token not in stop_words]\n",
        "    # Stemming\n",
        "    tokens = [ps.stem(token) for token in tokens]\n",
        "    # Joining tokens back to text\n",
        "    preprocessed_text = ' '.join(tokens)\n",
        "    return preprocessed_text\n",
        "\n",
        "data['text'] = data['text'].apply(preprocess_text)\n",
        "print(data['text'])"
      ]
    },
    {
      "cell_type": "code",
      "execution_count": null,
      "id": "9c32f318",
      "metadata": {
        "id": "9c32f318"
      },
      "outputs": [],
      "source": [
        "# Building a classification model\n",
        "X = data['text']  # Extracting the features (text)\n",
        "y = data['label']  # Extracting the target variable (label_num)\n",
        "\n",
        "# Splitting the data into training and testing sets\n",
        "X_train, X_test, y_train, y_test = train_test_split(X, y, test_size=0.2, random_state=42)"
      ]
    },
    {
      "cell_type": "code",
      "execution_count": null,
      "id": "2bb96e50",
      "metadata": {
        "id": "2bb96e50",
        "outputId": "6cca2fd3-dabf-452f-d6fd-4dbe77656f16"
      },
      "outputs": [
        {
          "data": {
            "text/plain": [
              "array(['ham', 'spam', 'ham', ..., 'spam', 'ham', 'ham'], dtype='<U4')"
            ]
          },
          "execution_count": 91,
          "metadata": {},
          "output_type": "execute_result"
        }
      ],
      "source": [
        "# Creating a pipeline for text classification\n",
        "pipeline = Pipeline([\n",
        "    ('vectorizer', CountVectorizer()),  # Converting text into numerical features\n",
        "    ('classifier', MultinomialNB())  # Training a Naive Bayes classifier\n",
        "])\n",
        "\n",
        "# Training the model\n",
        "pipeline.fit(X_train, y_train)\n",
        "\n",
        "# Making predictions on the test set\n",
        "y_pred = pipeline.predict(X_test)\n",
        "y_pred"
      ]
    },
    {
      "cell_type": "code",
      "execution_count": null,
      "id": "ec4ab9ce",
      "metadata": {
        "id": "ec4ab9ce",
        "outputId": "d37bd3bc-0dc2-4638-fee3-a21c52eb0e15"
      },
      "outputs": [
        {
          "name": "stdout",
          "output_type": "stream",
          "text": [
            "Accuracy: 0.9729468599033816\n",
            "Precision: 0.9461279461279462\n",
            "Recall: 0.9590443686006825\n",
            "F1 Score: 0.9525423728813558\n"
          ]
        }
      ],
      "source": [
        "# Evaluating the model performance\n",
        "print('Accuracy:', accuracy_score(y_test, y_pred))\n",
        "print('Precision:', precision_score(y_test, y_pred,pos_label='spam'))\n",
        "print('Recall:', recall_score(y_test, y_pred,pos_label='spam'))\n",
        "print('F1 Score:', f1_score(y_test, y_pred,pos_label='spam'))"
      ]
    },
    {
      "cell_type": "code",
      "execution_count": null,
      "id": "4647f944",
      "metadata": {
        "id": "4647f944",
        "outputId": "1db1e458-cc0e-40ca-c598-f194f2888d9c"
      },
      "outputs": [
        {
          "name": "stdout",
          "output_type": "stream",
          "text": [
            "              precision    recall  f1-score   support\n",
            "\n",
            "         ham       0.98      0.98      0.98       742\n",
            "        spam       0.95      0.96      0.95       293\n",
            "\n",
            "    accuracy                           0.97      1035\n",
            "   macro avg       0.96      0.97      0.97      1035\n",
            "weighted avg       0.97      0.97      0.97      1035\n",
            "\n"
          ]
        }
      ],
      "source": [
        "report=classification_report(y_test,y_pred)\n",
        "print(report)"
      ]
    },
    {
      "cell_type": "code",
      "execution_count": null,
      "id": "167698a5",
      "metadata": {
        "id": "167698a5",
        "outputId": "d8348f5e-5d89-4deb-84cc-20a328ce7313"
      },
      "outputs": [
        {
          "data": {
            "image/png": "[encoded data removed]",
            "text/plain": [
              "<Figure size 640x480 with 1 Axes>"
            ]
          },
          "metadata": {
            "needs_background": "light"
          },
          "output_type": "display_data"
        }
      ],
      "source": [
        "conf_mat = confusion_matrix(y_test, y_pred)\n",
        "plt.figure(figsize=(8, 6), dpi=80)\n",
        "sns.heatmap(conf_mat, annot=True, fmt=\"d\", cmap=\"cividis\", cbar=False)\n",
        "plt.title('Confusion Matrix')\n",
        "plt.xlabel('Predicted')\n",
        "plt.ylabel('Actual')\n",
        "plt.show()"
      ]
    },
    {
      "cell_type": "code",
      "execution_count": null,
      "id": "174fd3c2",
      "metadata": {
        "id": "174fd3c2",
        "outputId": "85fa7448-58c0-4a64-b994-48e4f4ee176f"
      },
      "outputs": [
        {
          "data": {
            "image/png": "[encoded data removed]",
            "text/plain": [
              "<Figure size 720x432 with 1 Axes>"
            ]
          },
          "metadata": {
            "needs_background": "light"
          },
          "output_type": "display_data"
        }
      ],
      "source": [
        "# Data visualization\n",
        "color = {\"ham\": \"black\", \"spam\": \"blue\"}\n",
        "plt.figure(figsize=(10, 6))\n",
        "sns.countplot(data['label'], palette=color)\n",
        "plt.show()"
      ]
    },
    {
      "cell_type": "code",
      "execution_count": null,
      "id": "40e01abc",
      "metadata": {
        "id": "40e01abc"
      },
      "outputs": [],
      "source": [
        "msg1=[\"Urgent! You won a million dollars! Click here to claim your prize!\"]\n",
        "msg2=[\"I'm going to the store. Do you need anything?\"]\n",
        "msg3=[\"hello my all student i want to talk about media next lecture\"]"
      ]
    },
    {
      "cell_type": "code",
      "execution_count": null,
      "id": "b9e37897",
      "metadata": {
        "id": "b9e37897",
        "outputId": "28dc6870-1bed-4722-d938-16a87a81e705"
      },
      "outputs": [
        {
          "name": "stdout",
          "output_type": "stream",
          "text": [
            "['spam']\n",
            "['spam']\n",
            "['spam']\n"
          ]
        }
      ],
      "source": [
        "print(pipeline.predict(msg1))\n",
        "print(pipeline.predict(msg2))\n",
        "print(pipeline.predict(msg3))"
      ]
    },
    {
      "cell_type": "code",
      "execution_count": null,
      "id": "249b1d64",
      "metadata": {
        "id": "249b1d64"
      },
      "outputs": [],
      "source": []
    },
    {
      "cell_type": "code",
      "execution_count": null,
      "id": "9163be08",
      "metadata": {
        "id": "9163be08"
      },
      "outputs": [],
      "source": []
    }
  ],
  "metadata": {
    "kernelspec": {
      "display_name": "Python 3 (ipykernel)",
      "language": "python",
      "name": "python3"
    },
    "language_info": {
      "codemirror_mode": {
        "name": "ipython",
        "version": 3
      },
      "file_extension": ".py",
      "mimetype": "text/x-python",
      "name": "python",
      "nbconvert_exporter": "python",
      "pygments_lexer": "ipython3",
      "version": "3.9.7"
    },
    "colab": {
      "provenance": []
    }
  },
  "nbformat": 4,
  "nbformat_minor": 5
}